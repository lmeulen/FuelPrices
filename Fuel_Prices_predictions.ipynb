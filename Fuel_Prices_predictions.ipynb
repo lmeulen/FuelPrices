{
 "cells": [
  {
   "cell_type": "code",
   "execution_count": null,
   "id": "c7dce781",
   "metadata": {},
   "outputs": [],
   "source": [
    "import os\n",
    "import cbsodata\n",
    "import pandas as pd\n",
    "import numpy as np"
   ]
  },
  {
   "cell_type": "code",
   "execution_count": null,
   "id": "659e620d",
   "metadata": {},
   "outputs": [],
   "source": [
    "def get_cbs_data(dataset, cache=True):\n",
    "    cache_dir = 'cbs_cache'\n",
    "\n",
    "    cache_file = os.path.join(cache_dir,dataset+\".pickle\")\n",
    "    if cache and os.path.exists(cache_file):\n",
    "        ds = pd.read_pickle(cache_file)\n",
    "        return ds, None\n",
    "    else:\n",
    "        ds = pd.DataFrame(cbsodata.get_data(dataset))\n",
    "        for c in ds.columns:\n",
    "            if ds[c].dtype.str == '|O':\n",
    "                ds[c] = ds[c].str.strip()\n",
    "        ds.to_pickle(cache_file)\n",
    "\n",
    "    cache_file2 = os.path.join(cache_dir,dataset+\"_info.pickle\")\n",
    "    if cache and os.path.exists(cache_file2):\n",
    "        columninfo = pd.read_pickle(cache_file2)\n",
    "    else:\n",
    "        columninfo = pd.DataFrame(cbsodata.get_meta(dataset, 'DataProperties'))\n",
    "        columninfo.to_pickle(cache_file2)\n",
    "    if type(ds) == tuple :\n",
    "        ds = ds[0]\n",
    "    return ds, columninfo"
   ]
  },
  {
   "cell_type": "code",
   "execution_count": null,
   "id": "20502db6",
   "metadata": {},
   "outputs": [],
   "source": [
    "# Obtain Brent oil barrel price data\n",
    "# Source: https://www.investing.com/commodities/brent-oil\n",
    "# Historical data can be downloaded with a free account\n",
    "\n",
    "# Since oil price is in dollars and we are looking at long term effects,\n",
    "# the price must be converted to euros. The euro-dollar  trading price\n",
    "# is retrieved from the same source: https://www.investing.com/currencies/eur-usd\n",
    "\n",
    "oildata = pd.merge(pd.read_csv('Brent Oil Futures Historical Data Daily.csv'),\n",
    "                   pd.read_csv('EUR_USD Historical Data Daily.csv').add_suffix('_USD'), \n",
    "                   left_on='Date', right_on='Date_USD')\n",
    "oildata['Price_EUR'] = oildata['Price']*oildata['Price_USD']\n",
    "import locale\n",
    "locale.setlocale(locale.LC_ALL, \"uk_UK\")\n",
    "oildata[\"Date\"] = pd.to_datetime(oildata[\"Date\"], format='%b %d, %Y')\n",
    "oildata = oildata[['Date', 'Price_EUR']].rename(columns={'Price_EUR': 'Oil'})\n",
    "oildata.head(10)"
   ]
  },
  {
   "cell_type": "code",
   "execution_count": null,
   "id": "b7b04486",
   "metadata": {},
   "outputs": [],
   "source": [
    "# Retrieve the price for E10 and Diesel fuels at Dutch pumps\n",
    "# This data is avalailable at CBS, in dataset 80416NED\n",
    "# A wrapper is used around the cbsodata package to enable caching\n",
    "\n",
    "gasdataNL , _ = get_cbs_data(\"80416NED\")\n",
    "import locale\n",
    "locale.setlocale(locale.LC_ALL, \"nl_NL\")\n",
    "gasdataNL['Perioden'] = pd.to_datetime(gasdataNL['Perioden'], format='%Y %A %d %B')\n",
    "gasdataNL = gasdataNL.rename(columns={'BenzineEuro95_1' : 'E10_NL', 'Diesel_2': 'Diesel_NL','Perioden': 'Date'})\n",
    "gasdataNL = gasdataNL.drop(columns=['ID', 'Lpg_3'])\n",
    "gasdataNL.head(2)"
   ]
  },
  {
   "cell_type": "code",
   "execution_count": null,
   "id": "c3a749d5",
   "metadata": {},
   "outputs": [],
   "source": [
    "# Retrieve the fule prices from Germany.\n",
    "# Source Diesel: https://www.finanzen.net/rohstoffe/diesel-benzinpreis/historisch\n",
    "# Source Benzin: https://www.finanzen.net/rohstoffe/super-benzinpreis/historisch\n",
    "\n",
    "# Use F12 and the webdev tools to select the table on the webpage\n",
    "# Copy the internal HTML of this table and paste in Excel (Excel understands HTML table structures)\n",
    "# Clean up in Excel and save as CSV\n",
    "# The automated way is using BeautifoulSoup, but for this tutorial we use the steps above\n",
    "\n",
    "gasdataD = pd.merge(\n",
    "           pd.read_csv('Deutschland_Superbenzin.csv', sep=';').rename(columns={'Datum': 'Date', \"Schluss\": \"E10_D\"}),\n",
    "           pd.read_csv('Deutschland_Diesel.csv', sep=';').rename(columns={'Datum': 'Date', \"Schluss\": \"Diesel_D\"}),\n",
    "           how='outer'\n",
    "       )\n",
    "gasdataD['Date'] = pd.to_datetime(gasdataD['Date'], format='%d.%m.%Y')\n",
    "gasdataD['E10_D'] = gasdataD['E10_D'].str.replace(',', '.').astype(float)\n",
    "gasdataD['Diesel_D'] = gasdataD['Diesel_D'].str.replace(',', '.').astype(float)\n",
    "gasdataD.head(2)"
   ]
  },
  {
   "cell_type": "code",
   "execution_count": null,
   "id": "099179d9",
   "metadata": {},
   "outputs": [],
   "source": [
    "# Combine the fule prices to one table\n",
    "gasdata = pd.merge(gasdataNL, gasdataD, how='outer').sort_values('Date')\n",
    "gasdata.tail(2)"
   ]
  },
  {
   "cell_type": "code",
   "execution_count": null,
   "id": "28a99421",
   "metadata": {},
   "outputs": [],
   "source": [
    "# Combine fuel prices with the oil price\n",
    "# Resample data so we have a row for each day, fill missing data\n",
    "# Make a rolling average of 7 days to smooth out the data\n",
    "df_gas = pd.merge(oildata, gasdata, left_on='Date', right_on='Date', how='outer').set_index('Date')\n",
    "df_gas = df_gas.resample('1d').max().interpolate().rolling(7).mean()\n",
    "df_gas = df_gas[df_gas.index >= '2020-01-01']\n",
    "df_gas.head(2)"
   ]
  },
  {
   "cell_type": "code",
   "execution_count": null,
   "id": "39c3ea11",
   "metadata": {},
   "outputs": [],
   "source": [
    "# Create some additional datafields\n",
    "df_gas['Oil_rel']=df_gas['Oil']/df_gas.iloc[0]['Oil']\n",
    "\n",
    "df_gas['E10_NL_2_Oil'] = df_gas['E10_NL']/df_gas['Oil']\n",
    "df_gas['E10_NL_rel']=df_gas['E10_NL']/df_gas.iloc[0]['E10_NL']\n",
    "df_gas['Diesel_NL_rel']=df_gas['Diesel_NL']/df_gas.iloc[0]['Diesel_NL']\n",
    "\n",
    "df_gas['E10_D_2_Oil'] = df_gas['E10_D']/df_gas['Oil']\n",
    "df_gas['E10_D_rel']=df_gas['E10_D']/df_gas.iloc[0]['E10_D']\n",
    "df_gas['Diesel_D_rel']=df_gas['Diesel_D']/df_gas.iloc[0]['Diesel_D']\n",
    "\n",
    "df_gas['E10_NL_2_D'] = df_gas['E10_NL']/df_gas['E10_D']\n",
    "df_gas['E10_NL_2_D_diff'] = df_gas['E10_NL']-df_gas['E10_D']\n",
    "df_gas['E10_NL_2_D_diff_rel'] = (df_gas['E10_NL']-df_gas['E10_D'])/df_gas['E10_NL']"
   ]
  },
  {
   "cell_type": "code",
   "execution_count": null,
   "id": "7e49fbcd",
   "metadata": {},
   "outputs": [],
   "source": [
    "# Plot the oil price and the fuel price of E10 (NL and D)\n",
    "ax = df_gas['Oil'].plot(legend=True, figsize=(15,5))\n",
    "ax.set_ylabel('Oil price')\n",
    "# ax = df_gas[['E10_NL', 'E10_D']].plot(secondary_y=True, ax=ax, legend=True)\n",
    "ax = df_gas[['E10_NL']].plot(secondary_y=True, ax=ax, legend=True)\n",
    "ax.set_title('Oil and E10 prices over time')\n",
    "_ = ax.set_ylabel('E10 price')"
   ]
  },
  {
   "cell_type": "code",
   "execution_count": null,
   "id": "d5cb721c",
   "metadata": {},
   "outputs": [],
   "source": [
    "# Plot the difference between the Dutch and German prices\n",
    "ax = df_gas['E10_NL_2_D_diff'].plot(figsize=(15,5))\n",
    "ax.set_title('Price difference in gasoline between NL and D')\n",
    "ax.set_ylabel('Price difference (euro)')"
   ]
  },
  {
   "cell_type": "code",
   "execution_count": null,
   "id": "41747519",
   "metadata": {},
   "outputs": [],
   "source": []
  },
  {
   "cell_type": "code",
   "execution_count": null,
   "id": "907e408b",
   "metadata": {},
   "outputs": [],
   "source": [
    "# Try to build a predictor"
   ]
  },
  {
   "cell_type": "code",
   "execution_count": null,
   "id": "f36dfda8",
   "metadata": {},
   "outputs": [],
   "source": [
    "# Combine oil and fuel prices and create some additional features (historical data shift)\n",
    "df_gas = pd.merge(gasdata, oildata, left_on='Date', right_on='Date').set_index('Date').interpolate().dropna()\n",
    "df_gas = df_gas.resample('1d').max().interpolate().rolling(7, min_periods=1).mean().sort_values('Date')\n",
    "df_gas = df_gas[df_gas.index > '2021-01-01']\n",
    "\n",
    "df_gas['Oil_7d'] = df_gas['Oil'].shift(7)\n",
    "df_gas['Oil_14d'] = df_gas['Oil'].shift(14)\n",
    "df_gas['Oil_delta'] = df_gas['Oil_14d'] - df_gas['Oil_7d']\n",
    "\n",
    "df_gas['E10_NL_7d'] = df_gas['E10_NL'].shift(7)\n",
    "df_gas['E10_NL_14d'] = df_gas['E10_NL'].shift(14)\n",
    "df_gas['E10_NL_delta'] = df_gas['E10_NL_14d'] - df_gas['E10_NL_7d']"
   ]
  },
  {
   "cell_type": "code",
   "execution_count": null,
   "id": "845ce941",
   "metadata": {},
   "outputs": [],
   "source": [
    "# Compare Fuel price with oil price(same date, 7 days back 14 days back)\n",
    "df_plot = df_gas[df_gas.index > '2022-01-01']\n",
    "ax = df_plot[['Oil']].plot(legend=True, figsize=(15,5))\n",
    "ax.legend()\n",
    "df_plot[['Oil_7d', 'Oil_14d']].plot(ax=ax, legend=True, ls='--')\n",
    "df_plot[['E10_NL']].plot(secondary_y=True, ax=ax, legend=True, lw=2)\n",
    "ax.legend()"
   ]
  },
  {
   "cell_type": "code",
   "execution_count": null,
   "id": "e5a888cf",
   "metadata": {},
   "outputs": [],
   "source": [
    "# Show correlations\n",
    "df_gas.corr()"
   ]
  },
  {
   "cell_type": "code",
   "execution_count": null,
   "id": "24bc2b06",
   "metadata": {},
   "outputs": [],
   "source": [
    "df = df_gas.dropna().copy()\n",
    "# define the predictors  \n",
    "predictors = ['Oil', 'Oil_7d', 'Oil_14d', 'E10_NL_7d', 'E10_NL_14d']\n",
    "# define the target column\n",
    "target = 'E10_NL'\n",
    "\n",
    "# Do not use the last 7 days for training the model\n",
    "# Note the difference in argument order\n",
    "dropN = 7\n",
    "X = df[predictors][:-dropN]\n",
    "y = df[[target]][:-dropN]"
   ]
  },
  {
   "cell_type": "code",
   "execution_count": null,
   "id": "29eba211",
   "metadata": {},
   "outputs": [],
   "source": [
    "from sklearn import svm\n",
    "regr = svm.SVR()\n",
    "regr.fit(X, y)\n",
    "df['EstSVM'] = regr.predict(df[predictors])\n",
    "#regr.predict(df[predictors])"
   ]
  },
  {
   "cell_type": "code",
   "execution_count": null,
   "id": "ad9cfc13",
   "metadata": {},
   "outputs": [],
   "source": [
    "import statsmodels.api as sm\n",
    "model = sm.OLS(y, X).fit()\n",
    "# Score the model\n",
    "df['EstLR'] = model.predict(df[predictors])\n",
    "#model.predict(df[predictors])"
   ]
  },
  {
   "cell_type": "code",
   "execution_count": null,
   "id": "enhanced-french",
   "metadata": {},
   "outputs": [],
   "source": [
    "from sklearn.neural_network import MLPRegressor\n",
    "from sklearn.model_selection import train_test_split\n",
    "from sklearn.preprocessing import StandardScaler\n",
    "\n",
    "# Split the dataset in train and test data\n",
    "X_train, X_test, y_train, y_test = train_test_split(X, y, test_size=0.2)\n",
    "# Scale inputs\n",
    "sc_X = StandardScaler()\n",
    "X_trainscaled=sc_X.fit_transform(X_train)\n",
    "X_testscaled=sc_X.transform(X_test)\n",
    "\n",
    "reg = MLPRegressor(hidden_layer_sizes=(64,64,64),activation=\"relu\" ,random_state=1, max_iter=5000)\n",
    "reg.fit(X_trainscaled, y_train)\n",
    "\n",
    "# scale inputs before predicting\n",
    "df['EstMLP'] = reg.predict(sc_X.fit_transform(df[predictors]))"
   ]
  },
  {
   "cell_type": "code",
   "execution_count": null,
   "id": "374b911a",
   "metadata": {},
   "outputs": [],
   "source": [
    "from sklearn.metrics import r2_score, mean_squared_error, mean_absolute_error\n",
    "print(\"                                 R2-score RMSE     MAE\")\n",
    "print(\"            The Score with LR  : {:5.4f}   {:6.5f}  {:6.5f}\".format((r2_score(df['EstLR'], df['E10_NL'])),\n",
    "                                                   mean_squared_error(df['EstLR'], df['E10_NL']),\n",
    "                                                   mean_absolute_error(df['EstLR'], df['E10_NL'])))\n",
    "print(\"            The Score with MLP : {:5.4f}   {:6.5f}  {:6.5f}\".format((r2_score(df['EstMLP'], df['E10_NL'])),\n",
    "                                                   mean_squared_error(df['EstMLP'], df['E10_NL']),\n",
    "                                                   mean_absolute_error(df['EstMLP'], df['E10_NL'])))\n",
    "print(\"            The Score with SVM : {:5.4f}   {:6.5f}  {:6.5f}\".format((r2_score(df['EstSVM'], df['E10_NL'])),\n",
    "                                                   mean_squared_error(df['EstSVM'], df['E10_NL']),\n",
    "                                                   mean_absolute_error(df['EstSVM'], df['E10_NL'])))\n"
   ]
  },
  {
   "cell_type": "code",
   "execution_count": null,
   "id": "aae14bbf",
   "metadata": {},
   "outputs": [],
   "source": [
    "# Filter last records that were not part of the model input\n",
    "df['E10_NL_input'] = df['E10_NL']\n",
    "for i in range(-dropN,0,1):\n",
    "    df.iloc[i, df.columns.get_loc('E10_NL_input')] = None\n",
    "df_plot = df[['E10_NL_input', 'E10_NL', 'EstLR', 'EstSVM', 'EstMLP']][df.index > '2022-01-01']\n",
    "\n",
    "ax = df_plot[['E10_NL_input']].plot(color='blue', ls='-', figsize=(15,5))\n",
    "ax = df_plot[['E10_NL']].plot(ax=ax, color='blue', ls='--')\n",
    "ax = df_plot[['EstLR']].plot(ax=ax, color='green')\n",
    "ax = df_plot[['EstSVM']].plot(ax=ax, color='red')\n",
    "ax = df_plot[['EstMLP']].plot(ax=ax, color='orange')"
   ]
  },
  {
   "cell_type": "code",
   "execution_count": null,
   "id": "be22869f",
   "metadata": {},
   "outputs": [],
   "source": []
  }
 ],
 "metadata": {
  "kernelspec": {
   "display_name": "Python 3 (ipykernel)",
   "language": "python",
   "name": "python3"
  },
  "language_info": {
   "codemirror_mode": {
    "name": "ipython",
    "version": 3
   },
   "file_extension": ".py",
   "mimetype": "text/x-python",
   "name": "python",
   "nbconvert_exporter": "python",
   "pygments_lexer": "ipython3",
   "version": "3.10.5"
  }
 },
 "nbformat": 4,
 "nbformat_minor": 5
}
